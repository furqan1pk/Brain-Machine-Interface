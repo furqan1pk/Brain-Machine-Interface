{
 "cells": [
  {
   "cell_type": "code",
   "execution_count": null,
   "id": "aaed6839-f608-4311-ae9e-4d25fd83ac15",
   "metadata": {},
   "outputs": [],
   "source": [
    "# Extract events from the Joystick game ouput file to merge to Plexon files "
   ]
  },
  {
   "cell_type": "code",
   "execution_count": null,
   "id": "c48d7697-245f-4ce0-a62b-826dc676c5e2",
   "metadata": {},
   "outputs": [],
   "source": [
    "# change the input and ouput folder path before running the script"
   ]
  },
  {
   "cell_type": "code",
   "execution_count": 10,
   "id": "42ba68fc-088f-4683-b93a-bb5f53d0ce33",
   "metadata": {},
   "outputs": [],
   "source": [
    "import os\n",
    "import pandas as pd\n",
    "\n",
    "def process_csv(file_path):\n",
    "    # Read the CSV file\n",
    "    df = pd.read_csv(file_path)\n",
    "\n",
    "    # Filter for success == TRUE\n",
    "    success_df = df[df['success'] == 'TRUE']\n",
    "\n",
    "    # Get unique values in the 'discrim' column\n",
    "    unique_discrim_values = success_df['discrim'].unique()\n",
    "\n",
    "    # Columns to exclude\n",
    "    columns_to_exclude = ['trial', 'discrim', 'success', 'failure reason', \n",
    "                          'time in homezone', 'pull duration', 'reward duration',\n",
    "                          'discrim_delay', 'go_cue_delay']\n",
    "\n",
    "    # Processing each unique value in 'discrim'\n",
    "    processed_dfs = []\n",
    "    for discrim in unique_discrim_values:\n",
    "        temp_df = success_df[success_df['discrim'] == discrim]\n",
    "        temp_df = temp_df.drop(columns=columns_to_exclude).reset_index(drop=True)\n",
    "\n",
    "        # Filter out rows where all columns are NaN\n",
    "        temp_df = temp_df.dropna(how='all')\n",
    "\n",
    "        temp_df_renamed = temp_df.rename(columns=lambda x: x + f'_{discrim}')\n",
    "        processed_dfs.append(temp_df_renamed)\n",
    "\n",
    "    # Concatenating the dataframes horizontally\n",
    "    concatenated_df = pd.concat(processed_dfs, axis=1)\n",
    "\n",
    "    return concatenated_df\n",
    "\n",
    "def main(input_folder, output_folder):\n",
    "    # Ensure output folder exists\n",
    "    if not os.path.exists(output_folder):\n",
    "        os.makedirs(output_folder)\n",
    "\n",
    "    # Process each CSV file in the input folder\n",
    "    for file_name in os.listdir(input_folder):\n",
    "        if file_name.endswith('.csv'):\n",
    "            input_file_path = os.path.join(input_folder, file_name)\n",
    "            processed_df = process_csv(input_file_path)\n",
    "\n",
    "            # Construct output file path\n",
    "            output_file_name = os.path.splitext(file_name)[0] + \"_processed.csv\"\n",
    "            output_file_path = os.path.join(output_folder, output_file_name)\n",
    "\n",
    "            # Save the processed dataframe to a new CSV file\n",
    "            processed_df.to_csv(output_file_path, index=False)\n",
    "\n",
    "# Specify your input and output folder paths\n",
    "input_folder = r\"C:\\Users\\furqa\\OneDrive - University of California, Davis\\Documents\\GitHub\\RAship\\Github\\Twitter\\Data_Furqan\\Brain-Machine-Interface\\Input\"  # Replace with the path to your input folder\n",
    "output_folder = r\"C:\\Users\\furqa\\OneDrive - University of California, Davis\\Documents\\GitHub\\RAship\\Github\\Twitter\\Data_Furqan\\Brain-Machine-Interface\\Ouput\" # Replace with the path to your output folder\n",
    "\n",
    "# Run the script\n",
    "main(input_folder, output_folder)\n"
   ]
  },
  {
   "cell_type": "code",
   "execution_count": null,
   "id": "47915f03-e8ea-4c31-b4e6-c58d0e662885",
   "metadata": {},
   "outputs": [],
   "source": [
    "# if you want to work on Individual file use the code below\n",
    "# give the path to the file \n"
   ]
  },
  {
   "cell_type": "code",
   "execution_count": 4,
   "id": "cd5e5210-bb76-40f7-a3a4-e1ce91d43f33",
   "metadata": {},
   "outputs": [],
   "source": [
    "import pandas as pd\n",
    "\n",
    "# Load the CSV file\n",
    "file_path = r\"C:\\Users\\furqa\\OneDrive - University of California, Davis\\Documents\\GitHub\\RAship\\Github\\Twitter\\Data_Furqan\\Brain-Machine-Interface\\DRP001_Percutaneous_PreSCI_2_20230222_Joystick_plx_ts - Originald.csv\"  # Replace with your file path\n",
    "df = pd.read_csv(file_path)\n",
    "\n",
    "# Filter the dataframe for rows where 'success' is True\n",
    "success_df = df[df['success'] == 'TRUE']\n",
    "\n",
    "# Get unique values in the 'discrim' column\n",
    "unique_discrim_values = success_df['discrim'].unique()\n",
    "\n",
    "# Creating a dictionary to hold dataframes for each unique value in 'discrim'\n",
    "discrim_dfs = {discrim: success_df[success_df['discrim'] == discrim] for discrim in unique_discrim_values}\n",
    "\n",
    "# Example usage: Accessing the dataframe for a specific 'discrim' value\n",
    "# Let's say you want to access the dataframe for 'bOval'\n",
    "bOval_df = discrim_dfs['bOval']\n",
    "\n",
    "# You can do similar for 'monkey3' and 'sun'\n",
    "monkey3_df = discrim_dfs['monkey3']\n",
    "sun_df = discrim_dfs['sun']\n"
   ]
  },
  {
   "cell_type": "code",
   "execution_count": 8,
   "id": "49ae1292-01fc-408e-be8b-9444802d85f0",
   "metadata": {},
   "outputs": [],
   "source": [
    "# List of columns to exclude\n",
    "columns_to_exclude = ['trial', 'discrim', 'success', 'failure reason', \n",
    "                      'time in homezone', 'pull duration', 'reward duration',\n",
    "                      'discrim_delay', 'go_cue_delay']\n",
    "\n",
    "# Resetting the index and dropping the specified columns for each dataframe\n",
    "bOval_df = bOval_df.drop(columns=columns_to_exclude).reset_index(drop=True)\n",
    "monkey3_df = monkey3_df.drop(columns=columns_to_exclude).reset_index(drop=True)\n",
    "sun_df = sun_df.drop(columns=columns_to_exclude).reset_index(drop=True)\n",
    "\n",
    "# Renaming columns for each dataframe with the respective suffix\n",
    "bOval_df_renamed = bOval_df.rename(columns=lambda x: x + '_bOval')\n",
    "monkey3_df_renamed = monkey3_df.rename(columns=lambda x: x + '_monkey3')\n",
    "sun_df_renamed = sun_df.rename(columns=lambda x: x + '_sun')\n",
    "\n",
    "# Concatenating the dataframes horizontally\n",
    "concatenated_df = pd.concat([bOval_df_renamed, monkey3_df_renamed, sun_df_renamed], axis=1)\n"
   ]
  }
 ],
 "metadata": {
  "kernelspec": {
   "display_name": "Python 3 (ipykernel)",
   "language": "python",
   "name": "python3"
  },
  "language_info": {
   "codemirror_mode": {
    "name": "ipython",
    "version": 3
   },
   "file_extension": ".py",
   "mimetype": "text/x-python",
   "name": "python",
   "nbconvert_exporter": "python",
   "pygments_lexer": "ipython3",
   "version": "3.9.10"
  }
 },
 "nbformat": 4,
 "nbformat_minor": 5
}
